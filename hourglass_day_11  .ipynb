{
 "cells": [
  {
   "cell_type": "markdown",
   "metadata": {},
   "source": [
    "# Hourglass 2d array day 11 problem in hacker rank"
   ]
  },
  {
   "cell_type": "code",
   "execution_count": null,
   "metadata": {},
   "outputs": [],
   "source": [
    "if __name__ == '__main__':\n",
    "    def get_hourglass_sum(matrix,row,col):\n",
    "        sum=0\n",
    "        sum+=matrix[row][col]\n",
    "        sum+=matrix[row][col+1]\n",
    "        sum+=matrix[row][col+2]\n",
    "        sum+=matrix[row+1][col+1]\n",
    "        sum+=matrix[row+2][col]\n",
    "        sum+=matrix[row+2][col+1]\n",
    "        sum+=matrix[row+2][col+2]\n",
    "        return sum\n",
    "    arr = []\n",
    "    max_hourglass_sum=-63\n",
    "    for _ in range(6):\n",
    "        arr.append(list(map(int, input().rstrip().split())))\n",
    "    \n",
    "    for i in range(4):\n",
    "        for j in range(4):\n",
    "            current_hourglass_sum=get_hourglass_sum(arr,i,j)\n",
    "            if current_hourglass_sum>max_hourglass_sum:\n",
    "                max_hourglass_sum=current_hourglass_sum    \n",
    "    print(max_hourglass_sum)  "
   ]
  }
 ],
 "metadata": {
  "kernelspec": {
   "display_name": "Python 3",
   "language": "python",
   "name": "python3"
  },
  "language_info": {
   "codemirror_mode": {
    "name": "ipython",
    "version": 3
   },
   "file_extension": ".py",
   "mimetype": "text/x-python",
   "name": "python",
   "nbconvert_exporter": "python",
   "pygments_lexer": "ipython3",
   "version": "3.7.6"
  }
 },
 "nbformat": 4,
 "nbformat_minor": 4
}
